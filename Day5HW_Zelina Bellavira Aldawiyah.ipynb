{
 "cells": [
  {
   "cell_type": "markdown",
   "id": "2a981223",
   "metadata": {},
   "source": [
    "Mengimport package pandas"
   ]
  },
  {
   "cell_type": "code",
   "execution_count": 1,
   "id": "22b51329",
   "metadata": {},
   "outputs": [],
   "source": [
    "import pandas as pd\n",
    "import numpy as np"
   ]
  },
  {
   "cell_type": "markdown",
   "id": "df484dd6",
   "metadata": {},
   "source": [
    "**NOMOR 1**\n",
    "\n",
    "Membuat dan menampilkan DataFrame dengan nama \"df\" yang berisi data pada soal"
   ]
  },
  {
   "cell_type": "code",
   "execution_count": 2,
   "id": "422bd405",
   "metadata": {},
   "outputs": [
    {
     "data": {
      "text/html": [
       "<div>\n",
       "<style scoped>\n",
       "    .dataframe tbody tr th:only-of-type {\n",
       "        vertical-align: middle;\n",
       "    }\n",
       "\n",
       "    .dataframe tbody tr th {\n",
       "        vertical-align: top;\n",
       "    }\n",
       "\n",
       "    .dataframe thead th {\n",
       "        text-align: right;\n",
       "    }\n",
       "</style>\n",
       "<table border=\"1\" class=\"dataframe\">\n",
       "  <thead>\n",
       "    <tr style=\"text-align: right;\">\n",
       "      <th></th>\n",
       "      <th>name</th>\n",
       "      <th>weight</th>\n",
       "      <th>height</th>\n",
       "      <th>birth_year</th>\n",
       "      <th>gender</th>\n",
       "      <th>city</th>\n",
       "    </tr>\n",
       "  </thead>\n",
       "  <tbody>\n",
       "    <tr>\n",
       "      <th>0</th>\n",
       "      <td>Anna</td>\n",
       "      <td>45.2</td>\n",
       "      <td>155</td>\n",
       "      <td>2000</td>\n",
       "      <td>female</td>\n",
       "      <td>New York</td>\n",
       "    </tr>\n",
       "    <tr>\n",
       "      <th>1</th>\n",
       "      <td>Dane</td>\n",
       "      <td>50.5</td>\n",
       "      <td>160</td>\n",
       "      <td>1997</td>\n",
       "      <td>male</td>\n",
       "      <td>Chicago</td>\n",
       "    </tr>\n",
       "    <tr>\n",
       "      <th>2</th>\n",
       "      <td>David</td>\n",
       "      <td>62.1</td>\n",
       "      <td>162</td>\n",
       "      <td>1996</td>\n",
       "      <td>male</td>\n",
       "      <td>Austin</td>\n",
       "    </tr>\n",
       "    <tr>\n",
       "      <th>3</th>\n",
       "      <td>Kevin</td>\n",
       "      <td>64.0</td>\n",
       "      <td>170</td>\n",
       "      <td>1987</td>\n",
       "      <td>male</td>\n",
       "      <td>New York</td>\n",
       "    </tr>\n",
       "    <tr>\n",
       "      <th>4</th>\n",
       "      <td>Joe</td>\n",
       "      <td>59.0</td>\n",
       "      <td>167</td>\n",
       "      <td>1998</td>\n",
       "      <td>male</td>\n",
       "      <td>NaN</td>\n",
       "    </tr>\n",
       "    <tr>\n",
       "      <th>5</th>\n",
       "      <td>Rose</td>\n",
       "      <td>NaN</td>\n",
       "      <td>159</td>\n",
       "      <td>2003</td>\n",
       "      <td>female</td>\n",
       "      <td>New York</td>\n",
       "    </tr>\n",
       "  </tbody>\n",
       "</table>\n",
       "</div>"
      ],
      "text/plain": [
       "    name  weight  height  birth_year  gender      city\n",
       "0   Anna    45.2     155        2000  female  New York\n",
       "1   Dane    50.5     160        1997    male   Chicago\n",
       "2  David    62.1     162        1996    male    Austin\n",
       "3  Kevin    64.0     170        1987    male  New York\n",
       "4    Joe    59.0     167        1998    male       NaN\n",
       "5   Rose     NaN     159        2003  female  New York"
      ]
     },
     "execution_count": 2,
     "metadata": {},
     "output_type": "execute_result"
    }
   ],
   "source": [
    "df = pd.DataFrame({\n",
    "    \"name\": [\"Anna\", \"Dane\", \"David\", \"Kevin\", \"Joe\", \"Rose\"],\n",
    "    \"weight\": [45.2, 50.5, 62.1, 64.0, 59.0, np.nan],\n",
    "    \"height\": [155, 160, 162, 170, 167, 159],\n",
    "    \"birth_year\": [2000,1997,1996,1987,1998,2003],\n",
    "    \"gender\": [\"female\", \"male\", \"male\", \"male\", \"male\", \"female\"],\n",
    "    \"city\": [\"New York\", \"Chicago\", \"Austin\", \"New York\", np.nan, \"New York\"]\n",
    "    })\n",
    "df"
   ]
  },
  {
   "cell_type": "markdown",
   "id": "1866a83c",
   "metadata": {},
   "source": [
    "**NOMOR 2**\n",
    "\n",
    "Menampilkan basic DataFrame info dari \"df\""
   ]
  },
  {
   "cell_type": "code",
   "execution_count": 3,
   "id": "b52bc5d3",
   "metadata": {
    "scrolled": true
   },
   "outputs": [
    {
     "name": "stdout",
     "output_type": "stream",
     "text": [
      "<class 'pandas.core.frame.DataFrame'>\n",
      "RangeIndex: 6 entries, 0 to 5\n",
      "Data columns (total 6 columns):\n",
      " #   Column      Non-Null Count  Dtype  \n",
      "---  ------      --------------  -----  \n",
      " 0   name        6 non-null      object \n",
      " 1   weight      5 non-null      float64\n",
      " 2   height      6 non-null      int64  \n",
      " 3   birth_year  6 non-null      int64  \n",
      " 4   gender      6 non-null      object \n",
      " 5   city        5 non-null      object \n",
      "dtypes: float64(1), int64(2), object(3)\n",
      "memory usage: 416.0+ bytes\n"
     ]
    }
   ],
   "source": [
    "df.info()"
   ]
  },
  {
   "cell_type": "markdown",
   "id": "536884df",
   "metadata": {},
   "source": [
    "Interpretasi \n",
    "Pada DataFrame \"df\" memiliki jumlah 6 kolom, dimana :\n",
    "1. Kolom \"name\" memiliki 6 data yang terisi, tipe data object\n",
    "2. Kolom \"weight\" memiliki 5 data yang terisi, tipe data float64\n",
    "3. Kolom \"height\" memiliki 6 data yang terisi, tipe data int64\n",
    "4. Kolom \"birth_year\" memiliki 6 data yang terisi, tipe data int64\n",
    "5. Kolom \"gender\" memiliki 6 data yang terisi, tipe data object\n",
    "6. Kolom \"city\" memiliki 5 data yang terisi, tipe data object\n",
    "\n"
   ]
  },
  {
   "cell_type": "markdown",
   "id": "47998cca",
   "metadata": {},
   "source": [
    "**NOMOR 3**\n",
    "\n",
    "Menampilkan  basic statistic information for numerical columns"
   ]
  },
  {
   "cell_type": "code",
   "execution_count": 4,
   "id": "e611213c",
   "metadata": {
    "scrolled": true
   },
   "outputs": [
    {
     "data": {
      "text/html": [
       "<div>\n",
       "<style scoped>\n",
       "    .dataframe tbody tr th:only-of-type {\n",
       "        vertical-align: middle;\n",
       "    }\n",
       "\n",
       "    .dataframe tbody tr th {\n",
       "        vertical-align: top;\n",
       "    }\n",
       "\n",
       "    .dataframe thead th {\n",
       "        text-align: right;\n",
       "    }\n",
       "</style>\n",
       "<table border=\"1\" class=\"dataframe\">\n",
       "  <thead>\n",
       "    <tr style=\"text-align: right;\">\n",
       "      <th></th>\n",
       "      <th>weight</th>\n",
       "      <th>height</th>\n",
       "      <th>birth_year</th>\n",
       "    </tr>\n",
       "  </thead>\n",
       "  <tbody>\n",
       "    <tr>\n",
       "      <th>count</th>\n",
       "      <td>5.000000</td>\n",
       "      <td>6.000000</td>\n",
       "      <td>6.000000</td>\n",
       "    </tr>\n",
       "    <tr>\n",
       "      <th>mean</th>\n",
       "      <td>56.160000</td>\n",
       "      <td>162.166667</td>\n",
       "      <td>1996.833333</td>\n",
       "    </tr>\n",
       "    <tr>\n",
       "      <th>std</th>\n",
       "      <td>8.015173</td>\n",
       "      <td>5.492419</td>\n",
       "      <td>5.419102</td>\n",
       "    </tr>\n",
       "    <tr>\n",
       "      <th>min</th>\n",
       "      <td>45.200000</td>\n",
       "      <td>155.000000</td>\n",
       "      <td>1987.000000</td>\n",
       "    </tr>\n",
       "    <tr>\n",
       "      <th>25%</th>\n",
       "      <td>50.500000</td>\n",
       "      <td>159.250000</td>\n",
       "      <td>1996.250000</td>\n",
       "    </tr>\n",
       "    <tr>\n",
       "      <th>50%</th>\n",
       "      <td>59.000000</td>\n",
       "      <td>161.000000</td>\n",
       "      <td>1997.500000</td>\n",
       "    </tr>\n",
       "    <tr>\n",
       "      <th>75%</th>\n",
       "      <td>62.100000</td>\n",
       "      <td>165.750000</td>\n",
       "      <td>1999.500000</td>\n",
       "    </tr>\n",
       "    <tr>\n",
       "      <th>max</th>\n",
       "      <td>64.000000</td>\n",
       "      <td>170.000000</td>\n",
       "      <td>2003.000000</td>\n",
       "    </tr>\n",
       "  </tbody>\n",
       "</table>\n",
       "</div>"
      ],
      "text/plain": [
       "          weight      height   birth_year\n",
       "count   5.000000    6.000000     6.000000\n",
       "mean   56.160000  162.166667  1996.833333\n",
       "std     8.015173    5.492419     5.419102\n",
       "min    45.200000  155.000000  1987.000000\n",
       "25%    50.500000  159.250000  1996.250000\n",
       "50%    59.000000  161.000000  1997.500000\n",
       "75%    62.100000  165.750000  1999.500000\n",
       "max    64.000000  170.000000  2003.000000"
      ]
     },
     "execution_count": 4,
     "metadata": {},
     "output_type": "execute_result"
    }
   ],
   "source": [
    "df.describe()"
   ]
  },
  {
   "cell_type": "markdown",
   "id": "3a1afd2f",
   "metadata": {},
   "source": [
    "Terdapat 3 data numerical pada DataFrame \"df\" \n",
    "Interpretasi statistik deskripti berdasarkan output diatas, sebagai berikut :\n",
    "1. Variabel weight memiliki 5 data, height 6 data, dan birth_year 6 data\n",
    "2. Rata-rata berat badan sebesar 56.16 kg, rata-rata tinggi badan sebesar 162.17 cm.\n",
    "3. standar deviasi weight sebesar 8.02, height 5.49, dan birth_year 5.42\n",
    "4. Data terendah/minimum variabel weight sebesar 45.2 kg, height sebesar 155 cm, dan birth_year 1987\n",
    "5. Sedangkan data tertinggi/maksimum variabel weight sebesar 64 kg, height sebesar 170 cm, dan birth_year 2003\n"
   ]
  },
  {
   "cell_type": "markdown",
   "id": "e33a6d98",
   "metadata": {},
   "source": [
    "**NOMOR 4**\n",
    "\n",
    "Menyusun ulang kolom agar sesuai dengan Pandas DataFrame pada soal"
   ]
  },
  {
   "cell_type": "code",
   "execution_count": 5,
   "id": "534556f8",
   "metadata": {
    "scrolled": true
   },
   "outputs": [
    {
     "data": {
      "text/html": [
       "<div>\n",
       "<style scoped>\n",
       "    .dataframe tbody tr th:only-of-type {\n",
       "        vertical-align: middle;\n",
       "    }\n",
       "\n",
       "    .dataframe tbody tr th {\n",
       "        vertical-align: top;\n",
       "    }\n",
       "\n",
       "    .dataframe thead th {\n",
       "        text-align: right;\n",
       "    }\n",
       "</style>\n",
       "<table border=\"1\" class=\"dataframe\">\n",
       "  <thead>\n",
       "    <tr style=\"text-align: right;\">\n",
       "      <th></th>\n",
       "      <th>name</th>\n",
       "      <th>birth_year</th>\n",
       "      <th>height</th>\n",
       "      <th>weight</th>\n",
       "      <th>city</th>\n",
       "      <th>gender</th>\n",
       "    </tr>\n",
       "  </thead>\n",
       "  <tbody>\n",
       "    <tr>\n",
       "      <th>0</th>\n",
       "      <td>Anna</td>\n",
       "      <td>2000</td>\n",
       "      <td>155</td>\n",
       "      <td>45.2</td>\n",
       "      <td>New York</td>\n",
       "      <td>female</td>\n",
       "    </tr>\n",
       "    <tr>\n",
       "      <th>1</th>\n",
       "      <td>Dane</td>\n",
       "      <td>1997</td>\n",
       "      <td>160</td>\n",
       "      <td>50.5</td>\n",
       "      <td>Chicago</td>\n",
       "      <td>male</td>\n",
       "    </tr>\n",
       "    <tr>\n",
       "      <th>2</th>\n",
       "      <td>David</td>\n",
       "      <td>1996</td>\n",
       "      <td>162</td>\n",
       "      <td>62.1</td>\n",
       "      <td>Austin</td>\n",
       "      <td>male</td>\n",
       "    </tr>\n",
       "    <tr>\n",
       "      <th>3</th>\n",
       "      <td>Kevin</td>\n",
       "      <td>1987</td>\n",
       "      <td>170</td>\n",
       "      <td>64.0</td>\n",
       "      <td>New York</td>\n",
       "      <td>male</td>\n",
       "    </tr>\n",
       "    <tr>\n",
       "      <th>4</th>\n",
       "      <td>Joe</td>\n",
       "      <td>1998</td>\n",
       "      <td>167</td>\n",
       "      <td>59.0</td>\n",
       "      <td>NaN</td>\n",
       "      <td>male</td>\n",
       "    </tr>\n",
       "    <tr>\n",
       "      <th>5</th>\n",
       "      <td>Rose</td>\n",
       "      <td>2003</td>\n",
       "      <td>159</td>\n",
       "      <td>NaN</td>\n",
       "      <td>New York</td>\n",
       "      <td>female</td>\n",
       "    </tr>\n",
       "  </tbody>\n",
       "</table>\n",
       "</div>"
      ],
      "text/plain": [
       "    name  birth_year  height  weight      city  gender\n",
       "0   Anna        2000     155    45.2  New York  female\n",
       "1   Dane        1997     160    50.5   Chicago    male\n",
       "2  David        1996     162    62.1    Austin    male\n",
       "3  Kevin        1987     170    64.0  New York    male\n",
       "4    Joe        1998     167    59.0       NaN    male\n",
       "5   Rose        2003     159     NaN  New York  female"
      ]
     },
     "execution_count": 5,
     "metadata": {},
     "output_type": "execute_result"
    }
   ],
   "source": [
    "df = df.reindex(columns=[\"name\",\"birth_year\",\"height\",\"weight\",\"city\",\"gender\"])\n",
    "df"
   ]
  },
  {
   "cell_type": "markdown",
   "id": "2d7cfe29",
   "metadata": {},
   "source": [
    "**NOMOR 5**\n",
    "\n",
    "a) Menampilkan data df dengan kondisi seseorang berjenis kelamin laki-laki dan lahir setelah tahun 1996"
   ]
  },
  {
   "cell_type": "code",
   "execution_count": 6,
   "id": "c08f4f43",
   "metadata": {},
   "outputs": [
    {
     "data": {
      "text/html": [
       "<div>\n",
       "<style scoped>\n",
       "    .dataframe tbody tr th:only-of-type {\n",
       "        vertical-align: middle;\n",
       "    }\n",
       "\n",
       "    .dataframe tbody tr th {\n",
       "        vertical-align: top;\n",
       "    }\n",
       "\n",
       "    .dataframe thead th {\n",
       "        text-align: right;\n",
       "    }\n",
       "</style>\n",
       "<table border=\"1\" class=\"dataframe\">\n",
       "  <thead>\n",
       "    <tr style=\"text-align: right;\">\n",
       "      <th></th>\n",
       "      <th>name</th>\n",
       "      <th>birth_year</th>\n",
       "      <th>height</th>\n",
       "      <th>weight</th>\n",
       "      <th>city</th>\n",
       "      <th>gender</th>\n",
       "    </tr>\n",
       "  </thead>\n",
       "  <tbody>\n",
       "    <tr>\n",
       "      <th>1</th>\n",
       "      <td>Dane</td>\n",
       "      <td>1997</td>\n",
       "      <td>160</td>\n",
       "      <td>50.5</td>\n",
       "      <td>Chicago</td>\n",
       "      <td>male</td>\n",
       "    </tr>\n",
       "    <tr>\n",
       "      <th>4</th>\n",
       "      <td>Joe</td>\n",
       "      <td>1998</td>\n",
       "      <td>167</td>\n",
       "      <td>59.0</td>\n",
       "      <td>NaN</td>\n",
       "      <td>male</td>\n",
       "    </tr>\n",
       "  </tbody>\n",
       "</table>\n",
       "</div>"
      ],
      "text/plain": [
       "   name  birth_year  height  weight     city gender\n",
       "1  Dane        1997     160    50.5  Chicago   male\n",
       "4   Joe        1998     167    59.0      NaN   male"
      ]
     },
     "execution_count": 6,
     "metadata": {},
     "output_type": "execute_result"
    }
   ],
   "source": [
    "df[(df[\"gender\"] == \"male\") & (df[\"birth_year\"]>1996)]  "
   ]
  },
  {
   "cell_type": "markdown",
   "id": "700168f2",
   "metadata": {},
   "source": [
    "b) Menampilkan data df dengan kondisi seseorang berjenis kelamin perempuan dan memiliki tinggi lebih dari 157"
   ]
  },
  {
   "cell_type": "code",
   "execution_count": 7,
   "id": "4a2bc95f",
   "metadata": {
    "scrolled": false
   },
   "outputs": [
    {
     "data": {
      "text/html": [
       "<div>\n",
       "<style scoped>\n",
       "    .dataframe tbody tr th:only-of-type {\n",
       "        vertical-align: middle;\n",
       "    }\n",
       "\n",
       "    .dataframe tbody tr th {\n",
       "        vertical-align: top;\n",
       "    }\n",
       "\n",
       "    .dataframe thead th {\n",
       "        text-align: right;\n",
       "    }\n",
       "</style>\n",
       "<table border=\"1\" class=\"dataframe\">\n",
       "  <thead>\n",
       "    <tr style=\"text-align: right;\">\n",
       "      <th></th>\n",
       "      <th>name</th>\n",
       "      <th>birth_year</th>\n",
       "      <th>height</th>\n",
       "      <th>weight</th>\n",
       "      <th>city</th>\n",
       "      <th>gender</th>\n",
       "    </tr>\n",
       "  </thead>\n",
       "  <tbody>\n",
       "    <tr>\n",
       "      <th>5</th>\n",
       "      <td>Rose</td>\n",
       "      <td>2003</td>\n",
       "      <td>159</td>\n",
       "      <td>NaN</td>\n",
       "      <td>New York</td>\n",
       "      <td>female</td>\n",
       "    </tr>\n",
       "  </tbody>\n",
       "</table>\n",
       "</div>"
      ],
      "text/plain": [
       "   name  birth_year  height  weight      city  gender\n",
       "5  Rose        2003     159     NaN  New York  female"
      ]
     },
     "execution_count": 7,
     "metadata": {},
     "output_type": "execute_result"
    }
   ],
   "source": [
    "df[(df[\"gender\"] == \"female\") & (df[\"height\"]>157)]  "
   ]
  },
  {
   "cell_type": "markdown",
   "id": "faf33f0f",
   "metadata": {},
   "source": [
    "**NOMOR 6**\n"
   ]
  },
  {
   "cell_type": "code",
   "execution_count": 12,
   "id": "8ecfd84c",
   "metadata": {},
   "outputs": [
    {
     "data": {
      "text/html": [
       "<div>\n",
       "<style scoped>\n",
       "    .dataframe tbody tr th:only-of-type {\n",
       "        vertical-align: middle;\n",
       "    }\n",
       "\n",
       "    .dataframe tbody tr th {\n",
       "        vertical-align: top;\n",
       "    }\n",
       "\n",
       "    .dataframe thead th {\n",
       "        text-align: right;\n",
       "    }\n",
       "</style>\n",
       "<table border=\"1\" class=\"dataframe\">\n",
       "  <thead>\n",
       "    <tr style=\"text-align: right;\">\n",
       "      <th></th>\n",
       "      <th>name</th>\n",
       "      <th>birth_year</th>\n",
       "      <th>height</th>\n",
       "      <th>weight</th>\n",
       "      <th>city</th>\n",
       "      <th>gender</th>\n",
       "    </tr>\n",
       "  </thead>\n",
       "  <tbody>\n",
       "    <tr>\n",
       "      <th>0</th>\n",
       "      <td>Anna</td>\n",
       "      <td>2000</td>\n",
       "      <td>155</td>\n",
       "      <td>45.2</td>\n",
       "      <td>New York</td>\n",
       "      <td>female</td>\n",
       "    </tr>\n",
       "    <tr>\n",
       "      <th>1</th>\n",
       "      <td>Dane</td>\n",
       "      <td>1997</td>\n",
       "      <td>160</td>\n",
       "      <td>50.5</td>\n",
       "      <td>Chicago</td>\n",
       "      <td>male</td>\n",
       "    </tr>\n",
       "    <tr>\n",
       "      <th>2</th>\n",
       "      <td>David</td>\n",
       "      <td>1996</td>\n",
       "      <td>162</td>\n",
       "      <td>62.1</td>\n",
       "      <td>Austin</td>\n",
       "      <td>male</td>\n",
       "    </tr>\n",
       "    <tr>\n",
       "      <th>3</th>\n",
       "      <td>Kevin</td>\n",
       "      <td>1987</td>\n",
       "      <td>170</td>\n",
       "      <td>64.0</td>\n",
       "      <td>New York</td>\n",
       "      <td>male</td>\n",
       "    </tr>\n",
       "    <tr>\n",
       "      <th>4</th>\n",
       "      <td>Joe</td>\n",
       "      <td>1998</td>\n",
       "      <td>167</td>\n",
       "      <td>59.0</td>\n",
       "      <td>NaN</td>\n",
       "      <td>male</td>\n",
       "    </tr>\n",
       "    <tr>\n",
       "      <th>5</th>\n",
       "      <td>Rose</td>\n",
       "      <td>2003</td>\n",
       "      <td>159</td>\n",
       "      <td>45.2</td>\n",
       "      <td>New York</td>\n",
       "      <td>female</td>\n",
       "    </tr>\n",
       "  </tbody>\n",
       "</table>\n",
       "</div>"
      ],
      "text/plain": [
       "    name  birth_year  height  weight      city  gender\n",
       "0   Anna        2000     155    45.2  New York  female\n",
       "1   Dane        1997     160    50.5   Chicago    male\n",
       "2  David        1996     162    62.1    Austin    male\n",
       "3  Kevin        1987     170    64.0  New York    male\n",
       "4    Joe        1998     167    59.0       NaN    male\n",
       "5   Rose        2003     159    45.2  New York  female"
      ]
     },
     "execution_count": 12,
     "metadata": {},
     "output_type": "execute_result"
    }
   ],
   "source": [
    "df[\"weight\"] = df[\"weight\"].fillna(df[df['gender'] == 'female']['weight'].mean())\n",
    "df"
   ]
  },
  {
   "cell_type": "markdown",
   "id": "2d0485a6",
   "metadata": {},
   "source": [
    "Mengisi missing value (NaN) city (weight) dengan modus dari variabel city"
   ]
  },
  {
   "cell_type": "code",
   "execution_count": 13,
   "id": "9ef81f8e",
   "metadata": {
    "scrolled": true
   },
   "outputs": [
    {
     "data": {
      "text/html": [
       "<div>\n",
       "<style scoped>\n",
       "    .dataframe tbody tr th:only-of-type {\n",
       "        vertical-align: middle;\n",
       "    }\n",
       "\n",
       "    .dataframe tbody tr th {\n",
       "        vertical-align: top;\n",
       "    }\n",
       "\n",
       "    .dataframe thead th {\n",
       "        text-align: right;\n",
       "    }\n",
       "</style>\n",
       "<table border=\"1\" class=\"dataframe\">\n",
       "  <thead>\n",
       "    <tr style=\"text-align: right;\">\n",
       "      <th></th>\n",
       "      <th>name</th>\n",
       "      <th>birth_year</th>\n",
       "      <th>height</th>\n",
       "      <th>weight</th>\n",
       "      <th>city</th>\n",
       "      <th>gender</th>\n",
       "    </tr>\n",
       "  </thead>\n",
       "  <tbody>\n",
       "    <tr>\n",
       "      <th>0</th>\n",
       "      <td>Anna</td>\n",
       "      <td>2000</td>\n",
       "      <td>155</td>\n",
       "      <td>45.2</td>\n",
       "      <td>New York</td>\n",
       "      <td>female</td>\n",
       "    </tr>\n",
       "    <tr>\n",
       "      <th>1</th>\n",
       "      <td>Dane</td>\n",
       "      <td>1997</td>\n",
       "      <td>160</td>\n",
       "      <td>50.5</td>\n",
       "      <td>Chicago</td>\n",
       "      <td>male</td>\n",
       "    </tr>\n",
       "    <tr>\n",
       "      <th>2</th>\n",
       "      <td>David</td>\n",
       "      <td>1996</td>\n",
       "      <td>162</td>\n",
       "      <td>62.1</td>\n",
       "      <td>Austin</td>\n",
       "      <td>male</td>\n",
       "    </tr>\n",
       "    <tr>\n",
       "      <th>3</th>\n",
       "      <td>Kevin</td>\n",
       "      <td>1987</td>\n",
       "      <td>170</td>\n",
       "      <td>64.0</td>\n",
       "      <td>New York</td>\n",
       "      <td>male</td>\n",
       "    </tr>\n",
       "    <tr>\n",
       "      <th>4</th>\n",
       "      <td>Joe</td>\n",
       "      <td>1998</td>\n",
       "      <td>167</td>\n",
       "      <td>59.0</td>\n",
       "      <td>New York</td>\n",
       "      <td>male</td>\n",
       "    </tr>\n",
       "    <tr>\n",
       "      <th>5</th>\n",
       "      <td>Rose</td>\n",
       "      <td>2003</td>\n",
       "      <td>159</td>\n",
       "      <td>58.9</td>\n",
       "      <td>New York</td>\n",
       "      <td>female</td>\n",
       "    </tr>\n",
       "  </tbody>\n",
       "</table>\n",
       "</div>"
      ],
      "text/plain": [
       "    name  birth_year  height  weight      city  gender\n",
       "0   Anna        2000     155    45.2  New York  female\n",
       "1   Dane        1997     160    50.5   Chicago    male\n",
       "2  David        1996     162    62.1    Austin    male\n",
       "3  Kevin        1987     170    64.0  New York    male\n",
       "4    Joe        1998     167    59.0  New York    male\n",
       "5   Rose        2003     159    58.9  New York  female"
      ]
     },
     "execution_count": 13,
     "metadata": {},
     "output_type": "execute_result"
    }
   ],
   "source": [
    "df[\"city\"] = df[\"city\"].fillna(df[\"city\"].mode()[0])\n",
    "df"
   ]
  },
  {
   "cell_type": "markdown",
   "id": "2ef9e77b",
   "metadata": {},
   "source": [
    "Mengimport package scipy.stats"
   ]
  },
  {
   "cell_type": "code",
   "execution_count": 14,
   "id": "b19993e4",
   "metadata": {},
   "outputs": [],
   "source": [
    "import scipy.stats as stats"
   ]
  },
  {
   "cell_type": "markdown",
   "id": "d7c480e9",
   "metadata": {},
   "source": [
    "**NOMOR 7**\n",
    "\n",
    "Cek outliers dari variabel weight menggunakan z score"
   ]
  },
  {
   "cell_type": "code",
   "execution_count": 15,
   "id": "1ff8ab64",
   "metadata": {},
   "outputs": [
    {
     "data": {
      "text/html": [
       "<div>\n",
       "<style scoped>\n",
       "    .dataframe tbody tr th:only-of-type {\n",
       "        vertical-align: middle;\n",
       "    }\n",
       "\n",
       "    .dataframe tbody tr th {\n",
       "        vertical-align: top;\n",
       "    }\n",
       "\n",
       "    .dataframe thead th {\n",
       "        text-align: right;\n",
       "    }\n",
       "</style>\n",
       "<table border=\"1\" class=\"dataframe\">\n",
       "  <thead>\n",
       "    <tr style=\"text-align: right;\">\n",
       "      <th></th>\n",
       "      <th>name</th>\n",
       "      <th>birth_year</th>\n",
       "      <th>height</th>\n",
       "      <th>weight</th>\n",
       "      <th>city</th>\n",
       "      <th>gender</th>\n",
       "    </tr>\n",
       "  </thead>\n",
       "  <tbody>\n",
       "  </tbody>\n",
       "</table>\n",
       "</div>"
      ],
      "text/plain": [
       "Empty DataFrame\n",
       "Columns: [name, birth_year, height, weight, city, gender]\n",
       "Index: []"
      ]
     },
     "execution_count": 15,
     "metadata": {},
     "output_type": "execute_result"
    }
   ],
   "source": [
    "df[(np.abs(stats.zscore(df[\"weight\"]))>= 3)]"
   ]
  },
  {
   "cell_type": "markdown",
   "id": "4ea20c0f",
   "metadata": {},
   "source": [
    "Cek outliers dari variabel weight menggunakan IQR"
   ]
  },
  {
   "cell_type": "code",
   "execution_count": 16,
   "id": "239652bc",
   "metadata": {},
   "outputs": [
    {
     "data": {
      "text/html": [
       "<div>\n",
       "<style scoped>\n",
       "    .dataframe tbody tr th:only-of-type {\n",
       "        vertical-align: middle;\n",
       "    }\n",
       "\n",
       "    .dataframe tbody tr th {\n",
       "        vertical-align: top;\n",
       "    }\n",
       "\n",
       "    .dataframe thead th {\n",
       "        text-align: right;\n",
       "    }\n",
       "</style>\n",
       "<table border=\"1\" class=\"dataframe\">\n",
       "  <thead>\n",
       "    <tr style=\"text-align: right;\">\n",
       "      <th></th>\n",
       "      <th>name</th>\n",
       "      <th>birth_year</th>\n",
       "      <th>height</th>\n",
       "      <th>weight</th>\n",
       "      <th>city</th>\n",
       "      <th>gender</th>\n",
       "    </tr>\n",
       "  </thead>\n",
       "  <tbody>\n",
       "  </tbody>\n",
       "</table>\n",
       "</div>"
      ],
      "text/plain": [
       "Empty DataFrame\n",
       "Columns: [name, birth_year, height, weight, city, gender]\n",
       "Index: []"
      ]
     },
     "execution_count": 16,
     "metadata": {},
     "output_type": "execute_result"
    }
   ],
   "source": [
    "q1 = df[\"weight\"].quantile(0.25)\n",
    "q3 = df[\"weight\"].quantile(0.75)\n",
    "\n",
    "iqr = q3-q1 #Interquartile range\n",
    "fence_low  = q1-1.5*iqr\n",
    "fence_high = q3+1.5*iqr\n",
    "\n",
    "df.loc[(df[\"weight\"] < fence_low) | (df[\"weight\"] > fence_high)]"
   ]
  },
  {
   "cell_type": "markdown",
   "id": "eb38a3f5",
   "metadata": {},
   "source": [
    "Interpretasi \n",
    "\n",
    "Dengan pengecekan outliers dengan 2 metode, yaitu : zscore dan IQR. Didapatkan hasil bahwa pada data variabel weight tidak terdapat data outlier"
   ]
  }
 ],
 "metadata": {
  "kernelspec": {
   "display_name": "Python 3 (ipykernel)",
   "language": "python",
   "name": "python3"
  },
  "language_info": {
   "codemirror_mode": {
    "name": "ipython",
    "version": 3
   },
   "file_extension": ".py",
   "mimetype": "text/x-python",
   "name": "python",
   "nbconvert_exporter": "python",
   "pygments_lexer": "ipython3",
   "version": "3.9.7"
  }
 },
 "nbformat": 4,
 "nbformat_minor": 5
}
