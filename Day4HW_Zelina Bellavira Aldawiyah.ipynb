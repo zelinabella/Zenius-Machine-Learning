{
 "cells": [
  {
   "cell_type": "code",
   "execution_count": 1,
   "id": "0f0fa954",
   "metadata": {},
   "outputs": [],
   "source": [
    "from typeguard import typechecked\n",
    "\n",
    "@typechecked\n",
    "def leap_year(x:int):\n",
    "    if ((x % 4 == 0) & (x % 100 != 0)) | (x % 400 == 0):\n",
    "        print(\"Year {} is a leap year.\".format(x))\n",
    "    else:\n",
    "        for y in range(5):\n",
    "            y = y + x\n",
    "            if ((y % 4 == 0) & (y % 100 != 0)) | (y % 400 == 0):\n",
    "                y\n",
    "                break\n",
    "        print(\"Year {} is not a leap year. The next leap year after {} is {}.\".format(x,x,y))"
   ]
  },
  {
   "cell_type": "code",
   "execution_count": 4,
   "id": "da644efc",
   "metadata": {},
   "outputs": [
    {
     "ename": "TypeError",
     "evalue": "type of argument \"x\" must be int; got float instead",
     "output_type": "error",
     "traceback": [
      "\u001b[1;31m---------------------------------------------------------------------------\u001b[0m",
      "\u001b[1;31mTypeError\u001b[0m                                 Traceback (most recent call last)",
      "\u001b[1;32mC:\\Users\\ZELINA~1\\AppData\\Local\\Temp/ipykernel_18056/3708621929.py\u001b[0m in \u001b[0;36m<module>\u001b[1;34m\u001b[0m\n\u001b[1;32m----> 1\u001b[1;33m \u001b[0mleap_year\u001b[0m\u001b[1;33m(\u001b[0m\u001b[1;36m2001.6\u001b[0m\u001b[1;33m)\u001b[0m\u001b[1;33m\u001b[0m\u001b[1;33m\u001b[0m\u001b[0m\n\u001b[0m",
      "\u001b[1;32m~\\anaconda3\\lib\\site-packages\\typeguard\\__init__.py\u001b[0m in \u001b[0;36mwrapper\u001b[1;34m(*args, **kwargs)\u001b[0m\n\u001b[0;32m   1030\u001b[0m     \u001b[1;32mdef\u001b[0m \u001b[0mwrapper\u001b[0m\u001b[1;33m(\u001b[0m\u001b[1;33m*\u001b[0m\u001b[0margs\u001b[0m\u001b[1;33m,\u001b[0m \u001b[1;33m**\u001b[0m\u001b[0mkwargs\u001b[0m\u001b[1;33m)\u001b[0m\u001b[1;33m:\u001b[0m\u001b[1;33m\u001b[0m\u001b[1;33m\u001b[0m\u001b[0m\n\u001b[0;32m   1031\u001b[0m         \u001b[0mmemo\u001b[0m \u001b[1;33m=\u001b[0m \u001b[0m_CallMemo\u001b[0m\u001b[1;33m(\u001b[0m\u001b[0mpython_func\u001b[0m\u001b[1;33m,\u001b[0m \u001b[0m_localns\u001b[0m\u001b[1;33m,\u001b[0m \u001b[0margs\u001b[0m\u001b[1;33m=\u001b[0m\u001b[0margs\u001b[0m\u001b[1;33m,\u001b[0m \u001b[0mkwargs\u001b[0m\u001b[1;33m=\u001b[0m\u001b[0mkwargs\u001b[0m\u001b[1;33m)\u001b[0m\u001b[1;33m\u001b[0m\u001b[1;33m\u001b[0m\u001b[0m\n\u001b[1;32m-> 1032\u001b[1;33m         \u001b[0mcheck_argument_types\u001b[0m\u001b[1;33m(\u001b[0m\u001b[0mmemo\u001b[0m\u001b[1;33m)\u001b[0m\u001b[1;33m\u001b[0m\u001b[1;33m\u001b[0m\u001b[0m\n\u001b[0m\u001b[0;32m   1033\u001b[0m         \u001b[0mretval\u001b[0m \u001b[1;33m=\u001b[0m \u001b[0mfunc\u001b[0m\u001b[1;33m(\u001b[0m\u001b[1;33m*\u001b[0m\u001b[0margs\u001b[0m\u001b[1;33m,\u001b[0m \u001b[1;33m**\u001b[0m\u001b[0mkwargs\u001b[0m\u001b[1;33m)\u001b[0m\u001b[1;33m\u001b[0m\u001b[1;33m\u001b[0m\u001b[0m\n\u001b[0;32m   1034\u001b[0m         \u001b[1;32mtry\u001b[0m\u001b[1;33m:\u001b[0m\u001b[1;33m\u001b[0m\u001b[1;33m\u001b[0m\u001b[0m\n",
      "\u001b[1;32m~\\anaconda3\\lib\\site-packages\\typeguard\\__init__.py\u001b[0m in \u001b[0;36mcheck_argument_types\u001b[1;34m(memo)\u001b[0m\n\u001b[0;32m    873\u001b[0m                 \u001b[0mcheck_type\u001b[0m\u001b[1;33m(\u001b[0m\u001b[0mdescription\u001b[0m\u001b[1;33m,\u001b[0m \u001b[0mvalue\u001b[0m\u001b[1;33m,\u001b[0m \u001b[0mexpected_type\u001b[0m\u001b[1;33m,\u001b[0m \u001b[0mmemo\u001b[0m\u001b[1;33m)\u001b[0m\u001b[1;33m\u001b[0m\u001b[1;33m\u001b[0m\u001b[0m\n\u001b[0;32m    874\u001b[0m             \u001b[1;32mexcept\u001b[0m \u001b[0mTypeError\u001b[0m \u001b[1;32mas\u001b[0m \u001b[0mexc\u001b[0m\u001b[1;33m:\u001b[0m  \u001b[1;31m# suppress unnecessarily long tracebacks\u001b[0m\u001b[1;33m\u001b[0m\u001b[1;33m\u001b[0m\u001b[0m\n\u001b[1;32m--> 875\u001b[1;33m                 \u001b[1;32mraise\u001b[0m \u001b[0mTypeError\u001b[0m\u001b[1;33m(\u001b[0m\u001b[1;33m*\u001b[0m\u001b[0mexc\u001b[0m\u001b[1;33m.\u001b[0m\u001b[0margs\u001b[0m\u001b[1;33m)\u001b[0m \u001b[1;32mfrom\u001b[0m \u001b[1;32mNone\u001b[0m\u001b[1;33m\u001b[0m\u001b[1;33m\u001b[0m\u001b[0m\n\u001b[0m\u001b[0;32m    876\u001b[0m \u001b[1;33m\u001b[0m\u001b[0m\n\u001b[0;32m    877\u001b[0m     \u001b[1;32mreturn\u001b[0m \u001b[1;32mTrue\u001b[0m\u001b[1;33m\u001b[0m\u001b[1;33m\u001b[0m\u001b[0m\n",
      "\u001b[1;31mTypeError\u001b[0m: type of argument \"x\" must be int; got float instead"
     ]
    }
   ],
   "source": [
    "leap_year(2001.6)"
   ]
  },
  {
   "cell_type": "code",
   "execution_count": 3,
   "id": "e088b9da",
   "metadata": {},
   "outputs": [
    {
     "name": "stdout",
     "output_type": "stream",
     "text": [
      "Year 2004 is a leap year.\n"
     ]
    }
   ],
   "source": [
    "leap_year(2004)"
   ]
  },
  {
   "cell_type": "code",
   "execution_count": 6,
   "id": "3f2f566c",
   "metadata": {},
   "outputs": [],
   "source": [
    "from typeguard import typechecked\n",
    "\n",
    "@typechecked\n",
    "def leap_year(x:int):\n",
    "    def is_leap(z):\n",
    "      return ((z % 4 == 0) & (z % 100 != 0)) | (z % 400 == 0)\n",
    "\n",
    "    if is_leap(x):\n",
    "        print(\"Year {} is a leap year.\".format(x))\n",
    "    else:\n",
    "        for y in range(5):\n",
    "            y = y + x\n",
    "            if is_leap(y):\n",
    "                y\n",
    "                break\n",
    "        print(\"Year {} is not a leap year. The next leap year after {} is {}.\".format(x,x,y))"
   ]
  },
  {
   "cell_type": "code",
   "execution_count": 7,
   "id": "fe3f0f0a",
   "metadata": {},
   "outputs": [
    {
     "name": "stdout",
     "output_type": "stream",
     "text": [
      "Year 2004 is a leap year.\n"
     ]
    }
   ],
   "source": [
    "leap_year(2004)"
   ]
  },
  {
   "cell_type": "code",
   "execution_count": 8,
   "id": "036e3f71",
   "metadata": {},
   "outputs": [
    {
     "name": "stdout",
     "output_type": "stream",
     "text": [
      "Year 2001 is not a leap year. The next leap year after 2001 is 2004.\n"
     ]
    }
   ],
   "source": [
    "leap_year(2001)"
   ]
  },
  {
   "cell_type": "code",
   "execution_count": 10,
   "id": "57933559",
   "metadata": {},
   "outputs": [],
   "source": [
    "from typeguard import typechecked\n",
    "\n",
    "@typechecked\n",
    "def leap_year(x:int):\n",
    "    def is_leap(z):\n",
    "      return ((z % 4 == 0) & (z % 100 != 0)) | (z % 400 == 0)\n",
    "\n",
    "    if is_leap(x):\n",
    "        print(\"Year {} is a leap year.\".format(x))\n",
    "    else:\n",
    "        y = x + 1\n",
    "        while not is_leap(y):\n",
    "            y += 1\n",
    "        print(\"Year {} is not a leap year. The next leap year after {} is {}.\".format(x,x,y))\n"
   ]
  },
  {
   "cell_type": "code",
   "execution_count": 11,
   "id": "3337bc2a",
   "metadata": {},
   "outputs": [
    {
     "name": "stdout",
     "output_type": "stream",
     "text": [
      "Year 2004 is a leap year.\n"
     ]
    }
   ],
   "source": [
    "leap_year(2004)"
   ]
  },
  {
   "cell_type": "code",
   "execution_count": 12,
   "id": "0567a10e",
   "metadata": {},
   "outputs": [
    {
     "name": "stdout",
     "output_type": "stream",
     "text": [
      "Year 2001 is not a leap year. The next leap year after 2001 is 2004.\n"
     ]
    }
   ],
   "source": [
    "leap_year(2001)"
   ]
  }
 ],
 "metadata": {
  "kernelspec": {
   "display_name": "Python 3 (ipykernel)",
   "language": "python",
   "name": "python3"
  },
  "language_info": {
   "codemirror_mode": {
    "name": "ipython",
    "version": 3
   },
   "file_extension": ".py",
   "mimetype": "text/x-python",
   "name": "python",
   "nbconvert_exporter": "python",
   "pygments_lexer": "ipython3",
   "version": "3.9.7"
  }
 },
 "nbformat": 4,
 "nbformat_minor": 5
}
