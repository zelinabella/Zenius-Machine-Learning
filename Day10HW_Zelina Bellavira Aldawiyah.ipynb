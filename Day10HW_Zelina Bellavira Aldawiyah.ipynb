{
 "cells": [
  {
   "cell_type": "code",
   "execution_count": 8,
   "id": "ca8fe329",
   "metadata": {},
   "outputs": [],
   "source": [
    "#import packages\n",
    "import numpy as np\n",
    "import scipy.stats as stats"
   ]
  },
  {
   "cell_type": "code",
   "execution_count": 13,
   "id": "f7f924da",
   "metadata": {},
   "outputs": [
    {
     "data": {
      "text/plain": [
       "array([100, 150,  50, 100, 130, 120, 100, 110,  75,  65, 150, 120,  50,\n",
       "       100, 100, 140,  90, 150,  50,  90])"
      ]
     },
     "execution_count": 13,
     "metadata": {},
     "output_type": "execute_result"
    }
   ],
   "source": [
    "#input data\n",
    "t_amount = np.array([100,150,50,100,130,120,100,110,75,65,150,120,50,100,100,140,90,150,50,90])\n",
    "t_amount"
   ]
  },
  {
   "cell_type": "markdown",
   "id": "3a1bc51c",
   "metadata": {},
   "source": [
    "**1. Hypotheses (H0 and H1)**\n",
    "\n",
    "H0 : The average of transactions’ amount after the campaign = $100\n",
    "\n",
    "H1 : The average of transactions’ amount after the campaign > $100"
   ]
  },
  {
   "cell_type": "markdown",
   "id": "122a0b5b",
   "metadata": {},
   "source": [
    "**2. Significance level** :\n",
    "\n",
    "alpha = 0.05"
   ]
  },
  {
   "cell_type": "markdown",
   "id": "8d221a11",
   "metadata": {},
   "source": [
    "**3. Calculate T-statistic and P-value**"
   ]
  },
  {
   "cell_type": "code",
   "execution_count": 14,
   "id": "e2020e6b",
   "metadata": {
    "scrolled": true
   },
   "outputs": [
    {
     "data": {
      "text/plain": [
       "Ttest_1sampResult(statistic=0.2731657711666385, pvalue=0.787672894169515)"
      ]
     },
     "execution_count": 14,
     "metadata": {},
     "output_type": "execute_result"
    }
   ],
   "source": [
    "#perform one sample t-test\n",
    "stats.ttest_1samp(a=t_amount,popmean=100)"
   ]
  },
  {
   "cell_type": "code",
   "execution_count": 10,
   "id": "cac85500",
   "metadata": {},
   "outputs": [
    {
     "data": {
      "text/plain": [
       "0.3938364470847575"
      ]
     },
     "execution_count": 10,
     "metadata": {},
     "output_type": "execute_result"
    }
   ],
   "source": [
    "0.787672894169515/2"
   ]
  },
  {
   "cell_type": "markdown",
   "id": "23518854",
   "metadata": {},
   "source": [
    "Using One tailed test\n",
    "\n",
    "From the calculation, we get :\n",
    "\n",
    "t statistic = 0.2732 and p-value obtained = 0.3938"
   ]
  },
  {
   "cell_type": "markdown",
   "id": "d05f041b",
   "metadata": {},
   "source": [
    "**4. Critical Value (T-Table) and Critical Region**"
   ]
  },
  {
   "cell_type": "code",
   "execution_count": 11,
   "id": "28b61009",
   "metadata": {},
   "outputs": [
    {
     "data": {
      "text/plain": [
       "1.729132811521367"
      ]
     },
     "execution_count": 11,
     "metadata": {},
     "output_type": "execute_result"
    }
   ],
   "source": [
    "stats.t.ppf(1-0.05,19)"
   ]
  },
  {
   "cell_type": "markdown",
   "id": "2dd28dc0",
   "metadata": {},
   "source": [
    " Critical Region: t > 1.729\n",
    " \n",
    " Decision Rule\n",
    " - If using alpha\n",
    "     - if P-value < alpha (0.05), then we reject H0\n",
    "     - if P-value > alpha (0.05), then we fail to reject H0\n",
    " - If using t statistic\n",
    "     - if t statistic > t critical (1.729), then we reject H0\n",
    "     - if t statistic < t critical (1.729), then we fail to reject H0"
   ]
  },
  {
   "cell_type": "markdown",
   "id": "d70a3d72",
   "metadata": {},
   "source": [
    "**Comparing and Make Conclusion**"
   ]
  },
  {
   "cell_type": "markdown",
   "id": "b71eb684",
   "metadata": {},
   "source": [
    "Decision\n",
    "\n",
    "- Using alpha : Because P-value/2 (0.3938) > alpha (0.05), then we fail to reject H0\n",
    "- Using t statistic : Because t statistic (0.2732) < t critical (1.729), then we fail to reject H0\n",
    "\n",
    "Conclusion\n",
    "\n",
    "- With a significance level of 5%, it can be concluded that The average of transactions' amount after the campaign = $100. The new campaign that is run does not increase the average of transactions' amount, the new campaign is not effective."
   ]
  },
  {
   "cell_type": "code",
   "execution_count": null,
   "id": "14b18f6f",
   "metadata": {},
   "outputs": [],
   "source": [
    "\n",
    "\n"
   ]
  }
 ],
 "metadata": {
  "kernelspec": {
   "display_name": "Python 3 (ipykernel)",
   "language": "python",
   "name": "python3"
  },
  "language_info": {
   "codemirror_mode": {
    "name": "ipython",
    "version": 3
   },
   "file_extension": ".py",
   "mimetype": "text/x-python",
   "name": "python",
   "nbconvert_exporter": "python",
   "pygments_lexer": "ipython3",
   "version": "3.9.7"
  }
 },
 "nbformat": 4,
 "nbformat_minor": 5
}
