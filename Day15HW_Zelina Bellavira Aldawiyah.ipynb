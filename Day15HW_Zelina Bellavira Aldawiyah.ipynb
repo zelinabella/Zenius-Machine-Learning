{
 "cells": [
  {
   "cell_type": "markdown",
   "id": "1854e224",
   "metadata": {},
   "source": [
    "## Unsupervised ML Python Homework"
   ]
  },
  {
   "cell_type": "code",
   "execution_count": 1,
   "id": "19e2e47b",
   "metadata": {},
   "outputs": [],
   "source": [
    "import numpy as np\n",
    "import pandas as pd\n",
    "import sklearn\n",
    "import sys\n",
    "import warnings\n",
    "import os\n",
    "if not sys.warnoptions:\n",
    "    warnings.simplefilter(\"ignore\")\n",
    "    os.environ[\"PYTHONWARNINGS\"] = \"ignore\" \n",
    "\n",
    "import matplotlib.pyplot as plt\n",
    "import seaborn as sns\n",
    "import time\n",
    "\n",
    "\n",
    "from sklearn.decomposition import PCA\n",
    "\n",
    "import numpy as np\n",
    "import pandas as pd\n",
    "\n",
    "from sklearn.cluster import KMeans\n",
    "from sklearn.metrics import silhouette_samples, silhouette_score\n",
    "from sklearn.preprocessing import StandardScaler\n",
    "\n",
    "import matplotlib.pyplot as plt\n",
    "import matplotlib.cm as cm\n",
    "import seaborn as sns"
   ]
  },
  {
   "cell_type": "code",
   "execution_count": 2,
   "id": "4ee45efc",
   "metadata": {},
   "outputs": [],
   "source": [
    "data = pd.read_csv('unsupervised_ml_homework_data.csv')"
   ]
  },
  {
   "cell_type": "markdown",
   "id": "5d57c5f6",
   "metadata": {},
   "source": [
    "### Soal 1: PCA"
   ]
  },
  {
   "cell_type": "markdown",
   "id": "814b4ae8",
   "metadata": {},
   "source": [
    "Instruksi:\n",
    "1. Lakukan PCA pada data yang telah di-import di cell atas.\n",
    "2. Ketentuan PCA: Ambil sampai threshold explained variancenya 0.8 (80%)\n",
    "3. Berapa Principal Components yang diambil?\n",
    "4. Simpan data hasil PCA karena data hasil PCA ini akan digunakan di Soal 2: K-Means"
   ]
  },
  {
   "cell_type": "code",
   "execution_count": 3,
   "id": "96d64187",
   "metadata": {},
   "outputs": [],
   "source": [
    "### lakukan PCA di sini"
   ]
  },
  {
   "cell_type": "code",
   "execution_count": 4,
   "id": "1f529a72",
   "metadata": {},
   "outputs": [
    {
     "data": {
      "text/plain": [
       "(1000, 20)"
      ]
     },
     "execution_count": 4,
     "metadata": {},
     "output_type": "execute_result"
    }
   ],
   "source": [
    "data.shape"
   ]
  },
  {
   "cell_type": "code",
   "execution_count": 5,
   "id": "b08a34ad",
   "metadata": {},
   "outputs": [],
   "source": [
    "#Melakukan PCA dengan explained variancenya 0.8 (80%)\n",
    "start_time = time.time()\n",
    "pca_80 = PCA(0.80)\n",
    "pca_80.fit(data)\n",
    "x_train_pca_80 = pca_80.transform(data)\n",
    "finish_time = time.time()"
   ]
  },
  {
   "cell_type": "code",
   "execution_count": 6,
   "id": "3a4ca748",
   "metadata": {},
   "outputs": [
    {
     "data": {
      "text/plain": [
       "12"
      ]
     },
     "execution_count": 6,
     "metadata": {},
     "output_type": "execute_result"
    }
   ],
   "source": [
    "#Meliat Principal Components yang diambil\n",
    "pca_80.n_components_"
   ]
  },
  {
   "cell_type": "code",
   "execution_count": 7,
   "id": "861eeeb3",
   "metadata": {},
   "outputs": [
    {
     "name": "stdout",
     "output_type": "stream",
     "text": [
      "PCA Fit and Transform finished in 0.10653924942016602 seconds.\n",
      "Hanya tersisa: 12 feature columns setelah dlakukan PCA.\n",
      "PCA kali ini berhasil mereduksi dataset sebanyak 40.0 persen\n"
     ]
    }
   ],
   "source": [
    "print('PCA Fit and Transform finished in', finish_time - start_time, 'seconds.')\n",
    "print('Hanya tersisa:', pca_80.n_components_, 'feature columns setelah dlakukan PCA.')\n",
    "print('PCA kali ini berhasil mereduksi dataset sebanyak', (1-(pca_80.n_components_/20))*100, 'persen')"
   ]
  },
  {
   "cell_type": "markdown",
   "id": "8fa737f5",
   "metadata": {},
   "source": [
    "Agar mampu menjelaskan 80% variance dalam data, diperlukan 12 kolom dari data awal yang berjumlah 20 kolom"
   ]
  },
  {
   "cell_type": "markdown",
   "id": "3811b3d1",
   "metadata": {},
   "source": [
    "##### Jawab: Hasil PCA adalah mengambil 12 Principal Components."
   ]
  },
  {
   "cell_type": "code",
   "execution_count": 8,
   "id": "179e44c7",
   "metadata": {},
   "outputs": [],
   "source": [
    "#menyimpan data hasil PCA\n",
    "hasil_pca=pd.DataFrame(x_train_pca_80)"
   ]
  },
  {
   "cell_type": "markdown",
   "id": "9d628c85",
   "metadata": {},
   "source": [
    "### Soal 2: K Means"
   ]
  },
  {
   "cell_type": "markdown",
   "id": "9e172fc0",
   "metadata": {},
   "source": [
    "Instruksi:\n",
    "1. Dari data yang sudah di-PCA-kan (jadi datanya sudah baru ya, bukan data original lagi, ingat, data yang sudah di-PCA-kan), kita akan menentukan k = ?? yang paling ideal untuk clustering.\n",
    "2. Lakukan Elbow dan Silhouette method\n",
    "3. Visualisasikan hasil Elbow dan Silhouette method\n",
    "4. Berapa nilai k yang terbaik? "
   ]
  },
  {
   "cell_type": "code",
   "execution_count": 9,
   "id": "ccf104c7",
   "metadata": {
    "scrolled": false
   },
   "outputs": [
    {
     "data": {
      "text/html": [
       "<div>\n",
       "<style scoped>\n",
       "    .dataframe tbody tr th:only-of-type {\n",
       "        vertical-align: middle;\n",
       "    }\n",
       "\n",
       "    .dataframe tbody tr th {\n",
       "        vertical-align: top;\n",
       "    }\n",
       "\n",
       "    .dataframe thead th {\n",
       "        text-align: right;\n",
       "    }\n",
       "</style>\n",
       "<table border=\"1\" class=\"dataframe\">\n",
       "  <thead>\n",
       "    <tr style=\"text-align: right;\">\n",
       "      <th></th>\n",
       "      <th>0</th>\n",
       "      <th>1</th>\n",
       "      <th>2</th>\n",
       "      <th>3</th>\n",
       "      <th>4</th>\n",
       "      <th>5</th>\n",
       "      <th>6</th>\n",
       "      <th>7</th>\n",
       "      <th>8</th>\n",
       "      <th>9</th>\n",
       "      <th>10</th>\n",
       "      <th>11</th>\n",
       "    </tr>\n",
       "  </thead>\n",
       "  <tbody>\n",
       "    <tr>\n",
       "      <th>0</th>\n",
       "      <td>4.489239</td>\n",
       "      <td>23.388822</td>\n",
       "      <td>-1.245327</td>\n",
       "      <td>-0.604663</td>\n",
       "      <td>7.168715</td>\n",
       "      <td>12.140433</td>\n",
       "      <td>-2.606712</td>\n",
       "      <td>-2.982270</td>\n",
       "      <td>-1.240097</td>\n",
       "      <td>0.661235</td>\n",
       "      <td>3.653253</td>\n",
       "      <td>1.176113</td>\n",
       "    </tr>\n",
       "    <tr>\n",
       "      <th>1</th>\n",
       "      <td>-16.927579</td>\n",
       "      <td>-21.720006</td>\n",
       "      <td>0.453236</td>\n",
       "      <td>-2.092276</td>\n",
       "      <td>-1.854185</td>\n",
       "      <td>8.105598</td>\n",
       "      <td>0.857659</td>\n",
       "      <td>2.890713</td>\n",
       "      <td>0.310611</td>\n",
       "      <td>-0.045326</td>\n",
       "      <td>-4.492495</td>\n",
       "      <td>4.243733</td>\n",
       "    </tr>\n",
       "    <tr>\n",
       "      <th>2</th>\n",
       "      <td>29.585439</td>\n",
       "      <td>-0.367065</td>\n",
       "      <td>8.009331</td>\n",
       "      <td>3.564103</td>\n",
       "      <td>3.851260</td>\n",
       "      <td>1.446380</td>\n",
       "      <td>8.451138</td>\n",
       "      <td>-9.789632</td>\n",
       "      <td>-3.855225</td>\n",
       "      <td>-1.684923</td>\n",
       "      <td>-3.405300</td>\n",
       "      <td>-8.356691</td>\n",
       "    </tr>\n",
       "    <tr>\n",
       "      <th>3</th>\n",
       "      <td>-18.107060</td>\n",
       "      <td>-8.676266</td>\n",
       "      <td>-0.009083</td>\n",
       "      <td>9.928400</td>\n",
       "      <td>2.647460</td>\n",
       "      <td>-2.341457</td>\n",
       "      <td>4.218565</td>\n",
       "      <td>1.104390</td>\n",
       "      <td>-2.239445</td>\n",
       "      <td>-1.504301</td>\n",
       "      <td>3.573772</td>\n",
       "      <td>-18.724099</td>\n",
       "    </tr>\n",
       "    <tr>\n",
       "      <th>4</th>\n",
       "      <td>-19.133698</td>\n",
       "      <td>-13.345589</td>\n",
       "      <td>-5.568956</td>\n",
       "      <td>-6.848398</td>\n",
       "      <td>-5.305273</td>\n",
       "      <td>-10.130572</td>\n",
       "      <td>-9.445192</td>\n",
       "      <td>0.368672</td>\n",
       "      <td>-7.123532</td>\n",
       "      <td>-2.462980</td>\n",
       "      <td>2.651811</td>\n",
       "      <td>-6.460466</td>\n",
       "    </tr>\n",
       "    <tr>\n",
       "      <th>...</th>\n",
       "      <td>...</td>\n",
       "      <td>...</td>\n",
       "      <td>...</td>\n",
       "      <td>...</td>\n",
       "      <td>...</td>\n",
       "      <td>...</td>\n",
       "      <td>...</td>\n",
       "      <td>...</td>\n",
       "      <td>...</td>\n",
       "      <td>...</td>\n",
       "      <td>...</td>\n",
       "      <td>...</td>\n",
       "    </tr>\n",
       "    <tr>\n",
       "      <th>995</th>\n",
       "      <td>-27.596745</td>\n",
       "      <td>-5.675153</td>\n",
       "      <td>1.037456</td>\n",
       "      <td>2.060439</td>\n",
       "      <td>12.357932</td>\n",
       "      <td>-1.168417</td>\n",
       "      <td>-5.429511</td>\n",
       "      <td>-7.116851</td>\n",
       "      <td>2.629224</td>\n",
       "      <td>-3.142956</td>\n",
       "      <td>2.621997</td>\n",
       "      <td>-0.400097</td>\n",
       "    </tr>\n",
       "    <tr>\n",
       "      <th>996</th>\n",
       "      <td>-25.101230</td>\n",
       "      <td>-16.880265</td>\n",
       "      <td>-2.327276</td>\n",
       "      <td>0.339001</td>\n",
       "      <td>-0.856307</td>\n",
       "      <td>7.415144</td>\n",
       "      <td>3.238225</td>\n",
       "      <td>4.557121</td>\n",
       "      <td>-0.463356</td>\n",
       "      <td>-7.809110</td>\n",
       "      <td>3.039680</td>\n",
       "      <td>6.374570</td>\n",
       "    </tr>\n",
       "    <tr>\n",
       "      <th>997</th>\n",
       "      <td>23.515248</td>\n",
       "      <td>2.271175</td>\n",
       "      <td>5.068040</td>\n",
       "      <td>1.014359</td>\n",
       "      <td>12.138911</td>\n",
       "      <td>0.638384</td>\n",
       "      <td>-5.087893</td>\n",
       "      <td>-0.279657</td>\n",
       "      <td>1.870682</td>\n",
       "      <td>1.883865</td>\n",
       "      <td>-1.320213</td>\n",
       "      <td>-5.322234</td>\n",
       "    </tr>\n",
       "    <tr>\n",
       "      <th>998</th>\n",
       "      <td>32.730315</td>\n",
       "      <td>-4.069322</td>\n",
       "      <td>10.025550</td>\n",
       "      <td>0.286854</td>\n",
       "      <td>-16.406983</td>\n",
       "      <td>-5.374449</td>\n",
       "      <td>9.337272</td>\n",
       "      <td>5.613491</td>\n",
       "      <td>-0.188005</td>\n",
       "      <td>-8.060883</td>\n",
       "      <td>3.080424</td>\n",
       "      <td>2.834658</td>\n",
       "    </tr>\n",
       "    <tr>\n",
       "      <th>999</th>\n",
       "      <td>-16.006922</td>\n",
       "      <td>16.370074</td>\n",
       "      <td>-6.467812</td>\n",
       "      <td>5.820928</td>\n",
       "      <td>1.882635</td>\n",
       "      <td>7.485633</td>\n",
       "      <td>2.270965</td>\n",
       "      <td>0.355526</td>\n",
       "      <td>-8.975090</td>\n",
       "      <td>-6.109662</td>\n",
       "      <td>6.446929</td>\n",
       "      <td>0.741801</td>\n",
       "    </tr>\n",
       "  </tbody>\n",
       "</table>\n",
       "<p>1000 rows × 12 columns</p>\n",
       "</div>"
      ],
      "text/plain": [
       "            0          1          2         3          4          5   \\\n",
       "0     4.489239  23.388822  -1.245327 -0.604663   7.168715  12.140433   \n",
       "1   -16.927579 -21.720006   0.453236 -2.092276  -1.854185   8.105598   \n",
       "2    29.585439  -0.367065   8.009331  3.564103   3.851260   1.446380   \n",
       "3   -18.107060  -8.676266  -0.009083  9.928400   2.647460  -2.341457   \n",
       "4   -19.133698 -13.345589  -5.568956 -6.848398  -5.305273 -10.130572   \n",
       "..         ...        ...        ...       ...        ...        ...   \n",
       "995 -27.596745  -5.675153   1.037456  2.060439  12.357932  -1.168417   \n",
       "996 -25.101230 -16.880265  -2.327276  0.339001  -0.856307   7.415144   \n",
       "997  23.515248   2.271175   5.068040  1.014359  12.138911   0.638384   \n",
       "998  32.730315  -4.069322  10.025550  0.286854 -16.406983  -5.374449   \n",
       "999 -16.006922  16.370074  -6.467812  5.820928   1.882635   7.485633   \n",
       "\n",
       "           6         7         8         9         10         11  \n",
       "0   -2.606712 -2.982270 -1.240097  0.661235  3.653253   1.176113  \n",
       "1    0.857659  2.890713  0.310611 -0.045326 -4.492495   4.243733  \n",
       "2    8.451138 -9.789632 -3.855225 -1.684923 -3.405300  -8.356691  \n",
       "3    4.218565  1.104390 -2.239445 -1.504301  3.573772 -18.724099  \n",
       "4   -9.445192  0.368672 -7.123532 -2.462980  2.651811  -6.460466  \n",
       "..        ...       ...       ...       ...       ...        ...  \n",
       "995 -5.429511 -7.116851  2.629224 -3.142956  2.621997  -0.400097  \n",
       "996  3.238225  4.557121 -0.463356 -7.809110  3.039680   6.374570  \n",
       "997 -5.087893 -0.279657  1.870682  1.883865 -1.320213  -5.322234  \n",
       "998  9.337272  5.613491 -0.188005 -8.060883  3.080424   2.834658  \n",
       "999  2.270965  0.355526 -8.975090 -6.109662  6.446929   0.741801  \n",
       "\n",
       "[1000 rows x 12 columns]"
      ]
     },
     "execution_count": 9,
     "metadata": {},
     "output_type": "execute_result"
    }
   ],
   "source": [
    "### Data hasil pca\n",
    "hasil_pca"
   ]
  },
  {
   "cell_type": "code",
   "execution_count": 10,
   "id": "fd87bca3",
   "metadata": {},
   "outputs": [],
   "source": [
    "### Elbow Method"
   ]
  },
  {
   "cell_type": "code",
   "execution_count": 11,
   "id": "d76bb8c7",
   "metadata": {},
   "outputs": [],
   "source": [
    "# memilih features\n",
    "x = hasil_pca"
   ]
  },
  {
   "cell_type": "code",
   "execution_count": 12,
   "id": "efcbc703",
   "metadata": {},
   "outputs": [],
   "source": [
    "score = []\n",
    "\n",
    "for cluster in range(1,11):\n",
    "    kmeans = KMeans(n_clusters = cluster)\n",
    "    scaled_data = StandardScaler().fit_transform(x)\n",
    "    kmeans.fit(scaled_data)\n",
    "    score.append(kmeans.inertia_)"
   ]
  },
  {
   "cell_type": "code",
   "execution_count": 13,
   "id": "4c64719e",
   "metadata": {},
   "outputs": [
    {
     "data": {
      "image/png": "[encoded data removed]",
      "text/plain": [
       "<Figure size 432x288 with 1 Axes>"
      ]
     },
     "metadata": {
      "needs_background": "light"
     },
     "output_type": "display_data"
    }
   ],
   "source": [
    "# plotting the score\n",
    "\n",
    "plt.plot(range(1,11), score)\n",
    "plt.title('The Elbow Method')\n",
    "plt.xlabel('number of clusters')\n",
    "plt.ylabel('wcss')\n",
    "plt.show()"
   ]
  },
  {
   "cell_type": "markdown",
   "id": "c3744305",
   "metadata": {},
   "source": [
    "Menggunakan Elbow Mwthod, pada grafik terlihat 'Elbow' terjadi di k = 3"
   ]
  },
  {
   "cell_type": "code",
   "execution_count": 14,
   "id": "6ef458a5",
   "metadata": {},
   "outputs": [
    {
     "data": {
      "image/png": "[encoded data removed]",
      "text/plain": [
       "<Figure size 432x288 with 1 Axes>"
      ]
     },
     "metadata": {
      "needs_background": "light"
     },
     "output_type": "display_data"
    }
   ],
   "source": [
    "### Silhouette Score\n",
    "silhouette_coefficients = []\n",
    "\n",
    "# Notice you start at 2 clusters for silhouette coefficient\n",
    "for k in range(2, 11):\n",
    "    kmeans = KMeans(n_clusters=k)\n",
    "    scaled_data = StandardScaler().fit_transform(x)\n",
    "    kmeans.fit(scaled_data)\n",
    "    score = silhouette_score(scaled_data, kmeans.labels_)\n",
    "    silhouette_coefficients.append(score)\n",
    "    \n",
    "plt.plot(range(2, 11), silhouette_coefficients)\n",
    "plt.xticks(range(2, 11))\n",
    "plt.xlabel(\"Number of Clusters\")\n",
    "plt.ylabel(\"Silhouette Coefficient\")\n",
    "plt.show()"
   ]
  },
  {
   "cell_type": "markdown",
   "id": "464d4908",
   "metadata": {},
   "source": [
    "Menggunakan Silhouette Score, Nilai Silhouette tertinggi ada di k = 3"
   ]
  },
  {
   "cell_type": "markdown",
   "id": "299f11b8",
   "metadata": {},
   "source": [
    "Berdasarkan hasil kedua metode tersebut, dapat diasumsikan bahwa k = 3 menjadi 'k' yang ideal dalam k-Means."
   ]
  },
  {
   "cell_type": "markdown",
   "id": "91faa167",
   "metadata": {},
   "source": [
    "##### Jawab: Nilai k yang terbaik berdasarkan Elbow dan Silhouette method adalah...k = 3"
   ]
  },
  {
   "cell_type": "code",
   "execution_count": null,
   "id": "ff884797",
   "metadata": {},
   "outputs": [],
   "source": []
  },
  {
   "cell_type": "code",
   "execution_count": null,
   "id": "aa0928c7",
   "metadata": {},
   "outputs": [],
   "source": []
  },
  {
   "cell_type": "code",
   "execution_count": null,
   "id": "e30612a8",
   "metadata": {},
   "outputs": [],
   "source": []
  }
 ],
 "metadata": {
  "kernelspec": {
   "display_name": "Python 3 (ipykernel)",
   "language": "python",
   "name": "python3"
  },
  "language_info": {
   "codemirror_mode": {
    "name": "ipython",
    "version": 3
   },
   "file_extension": ".py",
   "mimetype": "text/x-python",
   "name": "python",
   "nbconvert_exporter": "python",
   "pygments_lexer": "ipython3",
   "version": "3.9.7"
  }
 },
 "nbformat": 4,
 "nbformat_minor": 5
}
